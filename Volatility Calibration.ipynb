{
 "cells": [
  {
   "cell_type": "markdown",
   "metadata": {
    "collapsed": true,
    "pycharm": {
     "name": "#%% md\n"
    }
   },
   "source": [
    "# Pierre Vambenepe for www.canari.dev (Feb-2021)\n",
    "# Deutsche Boerse A7 usage example for equity options\n"
   ]
  },
  {
   "cell_type": "markdown",
   "metadata": {},
   "source": [
    "**Downloading intraday prices and trades from A7 and calibrating a vol surface**\n",
    "\n",
    "Abstract :\n",
    "Any data analysis project on options must start by computing an implicit volatility surface.\n",
    "This notebook associated with following dependencies takes care of this initial stage :\n",
    "you will need to download the following files from the code folder :\n",
    "- PricingAndCalibration.py (does the calibration heacy lifting)\n",
    "- DateAndTime.py (for date related functions)\n",
    "- Setup.py (in order to indicate where input and output must go)\n",
    "\n",
    "You will also need to load then minsize_level_tb.yml pre-processing code in A7 (see readme file for more explanations)\n"
   ]
  },
  {
   "cell_type": "code",
   "execution_count": 1,
   "metadata": {},
   "outputs": [],
   "source": [
    "# Indicate here the folders where you want the quotes and trades data (folder1)\n",
    "# and the calibration result with \"fleshed\" trades (folder 2)\n",
    "\n",
    "folder1 = 'D:/Users/GitHub/TradesDynamics/processed'\n",
    "folder2 = 'D:/Users/GitHub/TradesDynamics/parameters'\n",
    "\n",
    "import os\n",
    "os.makedirs(folder1, exist_ok=True)\n",
    "os.makedirs(folder1 + '/raw', exist_ok=True)\n",
    "os.makedirs(folder2, exist_ok=True)"
   ]
  },
  {
   "cell_type": "code",
   "execution_count": 2,
   "metadata": {},
   "outputs": [],
   "source": [
    "# We are now importing public libraries\n",
    "import numpy as np\n",
    "import pandas as pd\n",
    "import QuantLib as ql #free derivatives pricing package\n",
    "import math\n",
    "import datetime\n",
    "import matplotlib.pyplot as plt\n",
    "import requests\n",
    "import warnings\n",
    "\n",
    "pd.set_option('display.width', 200)\n",
    "pd.set_option('display.max_columns', 30)"
   ]
  },
  {
   "cell_type": "code",
   "execution_count": 3,
   "metadata": {
    "pycharm": {
     "name": "#%%\n"
    }
   },
   "outputs": [],
   "source": [
    "# ...and specific libraries available in this git\n",
    "\n",
    "from DateAndTime import DateAndTime\n",
    "# uses QuantLib to calculate numbers of business day between dates and generate a list expiration dates\n",
    "\n",
    "from PricingAndCalibration import Pricing\n",
    "# uses Quantlib to price European and American options with continuous dividend yield and the associated greeks\n",
    "\n",
    "from PricingAndCalibration import FittingSpline\n",
    "# uses scipy-UnivariateSpline to fit a 2nd degree spline through the implicit vol of bid and ask quotes (for each maturity)"
   ]
  },
  {
   "cell_type": "markdown",
   "metadata": {
    "pycharm": {
     "name": "#%% md\n"
    }
   },
   "source": [
    "# We will first retrieve trades and order book data from A7"
   ]
  },
  {
   "cell_type": "code",
   "execution_count": 4,
   "metadata": {
    "pycharm": {
     "name": "#%%²\n"
    }
   },
   "outputs": [],
   "source": [
    "#indicate your A7 credentials :\n",
    "owner = 'your A7 username here'\n",
    "\n",
    "API_TOKEN = \"Bearer \" + \"your A7 API token here\"\n",
    "# The API token is obtained by clicking on your name in the upper right corner of the A7 Analytics Platform, and then on \"API token generation\"\n",
    "\n",
    "proxies = {\n",
    "    \"http\": \"\",  # Enter http Proxy if needed\",\n",
    "    \"https\": \"\"  # Enter https Proxy if needed\",\n",
    "}"
   ]
  },
  {
   "cell_type": "code",
   "execution_count": 5,
   "metadata": {
    "pycharm": {
     "name": "#%%\n"
    }
   },
   "outputs": [],
   "source": [
    "#choose a date for analysis :\n",
    "reference_date = '20210105'\n",
    "\n",
    "# Select an underlying\n",
    "udl = 'DAI'\n",
    "isin = 'DE0007100000'\n",
    "\n",
    "# Select an algo for the retrieving of quotes.\n",
    "# 'top_level' algo is pre-loaded in A7\n",
    "# 'minsize_level_tb' allows you to look into the orderbook until finding a minimum number of lots.\n",
    "# 'minsize_level_tb' is given in this git as a .yml file and must be loaded first in your A7 account.\n",
    "algo = 'minsize_level_tb'\n",
    "\n",
    "# If you have chosen the 'minsize_level' algo :\n",
    "min_lots = 30"
   ]
  },
  {
   "cell_type": "code",
   "execution_count": 6,
   "metadata": {
    "pycharm": {
     "name": "#%%\n"
    }
   },
   "outputs": [],
   "source": [
    "#Some unimportant parameters and inital settings\n",
    "\n",
    "# filter settings to speed up the process\n",
    "# for 1 year maturity option with an adjustment in sqrt(T)\n",
    "moneyness_range_call = (-0.4, 0.7)\n",
    "moneyness_range_put = (-0.7, 0.4)\n",
    "\n",
    "DT = DateAndTime('2021-01-05', '2021-01-05')\n",
    "\n",
    "df_orderbook = pd.DataFrame()\n",
    "df_trades = pd.DataFrame()"
   ]
  },
  {
   "cell_type": "code",
   "execution_count": 7,
   "metadata": {
    "pycharm": {
     "name": "#%%\n"
    }
   },
   "outputs": [
    {
     "name": "stdout",
     "output_type": "stream",
     "text": [
      "Market Segment for the underlying DAI :: 52983\n"
     ]
    }
   ],
   "source": [
    "# Let's first find the identification code for the stock itself :\n",
    "\n",
    "url = 'https://a7.deutsche-boerse.com/api/v1/rdi/XETR/{}?mode=detailed'.format(reference_date)\n",
    "r = requests.get(url=url,  headers={'Authorization': API_TOKEN}, proxies = proxies)\n",
    "res = r.json()\n",
    "\n",
    "lst_ms = np.array([x['MarketSegment'] for x in res['MarketSegments']])\n",
    "indx = np.where(lst_ms==isin)[0][0]\n",
    "segmentIDudl = res['MarketSegments'][indx]['MarketSegmentID']\n",
    "print('Market Segment for the underlying {} :: {}'.format(udl, str(segmentIDudl)))\n",
    "\n",
    "url = 'https://a7.deutsche-boerse.com/api/v1/rdi/XETR/{}/{}?mode=detailed'.format(reference_date, segmentIDudl)\n",
    "r = requests.get(url=url, headers={'Authorization': API_TOKEN}, proxies = proxies)\n",
    "res_u = r.json()\n",
    "security = res_u['Securities'][0]"
   ]
  },
  {
   "cell_type": "code",
   "execution_count": 8,
   "metadata": {
    "pycharm": {
     "name": "#%%\n"
    }
   },
   "outputs": [
    {
     "name": "stdout",
     "output_type": "stream",
     "text": [
      "Market Segment for options on DAI :: 352\n"
     ]
    }
   ],
   "source": [
    "# Let's now get the get all options segments for this underlying (we will filter them mater)\n",
    "\n",
    "url = 'https://a7.deutsche-boerse.com/api/v1/rdi/XEUR/{}?mode=detailed'.format(reference_date)\n",
    "r = requests.get(url = url,  headers={'Authorization': API_TOKEN}, proxies = proxies)\n",
    "res = r.json()\n",
    "\n",
    "lst_ms = np.array([x['MarketSegment'] for x in res['MarketSegments']])\n",
    "indx = np.where(lst_ms==udl)[0][0]\n",
    "segmentIDopt = res['MarketSegments'][indx]['MarketSegmentID']\n",
    "print('Market Segment for options on {} :: {}'.format(udl, str(segmentIDopt)))\n",
    "\n",
    "url = 'https://a7.deutsche-boerse.com/api/v1/rdi/XEUR/{}/{}?mode=detailed'.format(reference_date, segmentIDopt)\n",
    "r = requests.get(url = url,  headers={'Authorization': API_TOKEN}, proxies = proxies)\n",
    "res_i = r.json()"
   ]
  },
  {
   "cell_type": "code",
   "execution_count": 9,
   "metadata": {
    "pycharm": {
     "name": "#%%\n"
    }
   },
   "outputs": [
    {
     "name": "stdout",
     "output_type": "stream",
     "text": [
      "UDL\n",
      "20210115\n",
      "20210219\n",
      "20210319\n",
      "20210618\n",
      "20210917\n",
      "20211217\n",
      "20220617\n",
      "20221216\n",
      "20230616\n",
      "20231215\n",
      "20241220\n",
      "20251219\n"
     ]
    }
   ],
   "source": [
    "# We will now retrieve the quotes (underlying and options)\n",
    "\n",
    "selected_fields = ['SecurityDesc', 'SecurityID']\n",
    "selected_fields_desc = ['PutOrCall', 'StrikePrice', 'ContractMultiplier', 'ExerciseStyle']\n",
    "\n",
    "raw = pd.DataFrame()\n",
    "matulist = sorted(list(set([str(elt['MaturityDate']) for elt in res_i['Securities'] if elt['MaturityDate'] != None])))\n",
    "\n",
    "for matu in ['UDL'] + matulist:\n",
    "    print(matu)\n",
    "\n",
    "    df = pd.DataFrame(columns=['SegmentID'] + selected_fields + selected_fields_desc)\n",
    "\n",
    "    if matu == 'UDL':\n",
    "        df.loc[0] = [segmentIDudl, security['SecurityDesc'], security['SecurityID'], 'S', None, 1, None]\n",
    "        df['in_range'] = True\n",
    "    else:\n",
    "        i = 0\n",
    "        for x in res_i['Securities']:\n",
    "            if (str(x['MaturityDate']) == matu) and (x['SecurityType'] == 'OPT'):\n",
    "                df.loc[i] = [segmentIDopt] + [x[elt] for elt in selected_fields] + \\\n",
    "                            [x['DerivativesDescriptorGroup']['SimpleInstrumentDescriptorGroup'][elt] for elt in selected_fields_desc]\n",
    "                i += 1\n",
    "\n",
    "        df.sort_values(by=['StrikePrice', 'PutOrCall'], ascending = [True, True], inplace=True)\n",
    "\n",
    "        # Computing moneyness/sqrt(T) will allow us to filter out deep ITM options\n",
    "        TTM = DT.time_between(pd.Timestamp(reference_date), pd.Timestamp(matu))\n",
    "        df['moneyness_T'] = df.apply(lambda opt: math.log(opt.StrikePrice / FVU) / (max(3.0 / 12.0, TTM) ** 0.5), axis='columns')\n",
    "        # the forward ratio is unknown at this stage so we take a high dividend rate of 8% as instead, hence the 0.92\n",
    "        df['moneyness_T_w_div'] = df.apply(lambda opt: math.log(opt.StrikePrice / FVU*0.92) / (max(3.0 / 12.0, TTM) ** 0.5), axis='columns')\n",
    "        df['in_range'] = df.apply(lambda opt: (opt.moneyness_T_w_div > moneyness_range_call[0]) and (opt.moneyness_T < moneyness_range_call[1])  \\\n",
    "                if opt.PutOrCall == '1' else \\\n",
    "                (opt.moneyness_T_w_div > moneyness_range_put[0]) and (opt.moneyness_T < moneyness_range_put[1]), axis='columns')\n",
    "\n",
    "        df = df.loc[df.in_range]\n",
    "\n",
    "    for index, opt in df.iterrows():\n",
    "        \n",
    "        if opt['PutOrCall'] == 'S':\n",
    "            market = 'XETR'\n",
    "            url = 'https://a7.deutsche-boerse.com/api/v1/algo/{}/top_level/'.format(owner)\n",
    "            url = url+\"run?marketId={}&date={}&marketSegmentId={}&securityId={}\".format(market, reference_date, opt['SegmentID'], opt['SecurityID'])\n",
    "\n",
    "        else:\n",
    "            market = 'XEUR'\n",
    "            if algo == 'top_level':\n",
    "                url = 'https://a7.deutsche-boerse.com/api/v1/algo/{}/top_level/'.format(owner)\n",
    "                url = url+\"run?marketId={}&date={}&marketSegmentId={}&securityId={}\".format(market, reference_date, opt['SegmentID'], opt['SecurityID'])\n",
    "            elif algo == 'minsize_level_tb':\n",
    "                url = 'https://a7.deutsche-boerse.com/api/v1/algo/{}/minsize_level_tb/'.format(owner)\n",
    "                url = url+\"run?marketId={}&date={}&marketSegmentId={}&securityId={}&from_h=9&from_m=0&&min_lots={}&to_h=17&to_m=30&ts_step=5\".format(market, reference_date, opt['SegmentID'], opt['SecurityID'], min_lots)\n",
    "\n",
    "        r = requests.get(url=url,  headers={'Authorization': API_TOKEN}, proxies = proxies)\n",
    "        res = r.json()\n",
    "\n",
    "        if type(res) == list:\n",
    "            if (algo == 'minsize_level_tb') and (opt['PutOrCall'] != 'S'):\n",
    "                df_opt = pd.DataFrame.from_dict(res[0]['series'][0]['content'])\n",
    "                df_opt.ts = df_opt.ts.astype(np.int64)\n",
    "                df_opt.ts = pd.to_datetime(df_opt.ts)\n",
    "                df_opt.set_index('ts', inplace=True)\n",
    "\n",
    "                df_opt[selected_fields_desc] = opt[selected_fields_desc]\n",
    "\n",
    "                df_opt['matu'] = matu\n",
    "                df_orderbook = df_orderbook.append(df_opt)\n",
    "\n",
    "            else:\n",
    "                bid_ask_sampled = {}\n",
    "                for i, bidask in enumerate(['bid', 'ask']):\n",
    "                        df_price = pd.DataFrame(index=res[0]['series'][i]['content']['ts'])\n",
    "                        df_price = df_price.assign(pv=res[0]['series'][i]['content']['price'])\n",
    "\n",
    "                        df_price = df_price.dropna()\n",
    "                        if df_price.shape[0] > 0:\n",
    "                            df_price['pv'] = df_price['pv'].astype(float)/1e3\n",
    "                            df_price.columns = [bidask]\n",
    "                            df_price.index = df_price.index.astype(np.int64)\n",
    "                            df_price.index = pd.to_datetime(df_price.index)\n",
    "\n",
    "                            for elt in selected_fields_desc:\n",
    "                                df_price[elt] = opt[elt]\n",
    "                            df_price['matu'] = matu\n",
    "\n",
    "                            if opt['PutOrCall'] == 'S':\n",
    "                                df_raw = df_price.copy()\n",
    "                                df_raw.rename(columns={bidask: 'level'}, inplace=True)\n",
    "                                df_raw['bidask'] = bidask\n",
    "                                for elt in selected_fields:\n",
    "                                    df_raw[elt] = opt[elt]\n",
    "                                raw = raw.append(df_raw)\n",
    "\n",
    "                            index = pd.date_range(df_price.index[0].round('T'), df_price.index[-1], freq='1T')\n",
    "                            df_price = df_price.reindex(index, method='ffill')\n",
    "\n",
    "                            bid_ask_sampled[bidask] = df_price\n",
    "\n",
    "                if len(bid_ask_sampled) == 2:\n",
    "                    df_opt = pd.merge(bid_ask_sampled['bid'][['bid']], bid_ask_sampled['ask'], how='inner', left_index=True, right_index=True)\n",
    "                    if opt['PutOrCall'] == 'S':\n",
    "                        FVU = (df_opt.bid.median() + df_opt.ask.median())/2\n",
    "                    df_orderbook = df_orderbook.append(df_opt)\n",
    "                \n",
    "\n",
    "raw.to_pickle(folder1 + '/raw/Quotes_' + '{}_{}.pkl'.format(udl, reference_date))\n",
    "df_orderbook.to_pickle(folder1 + '/Quotes_' + udl + '.pkl')"
   ]
  },
  {
   "cell_type": "code",
   "execution_count": 10,
   "metadata": {
    "pycharm": {
     "name": "#%%\n"
    }
   },
   "outputs": [],
   "source": [
    "# Finally, we retreive the trades\n",
    "\n",
    "selected_fields = ['SecurityDesc', 'SecurityID']\n",
    "selected_fields_desc = ['PutOrCall', 'StrikePrice', 'ContractMultiplier', 'ExerciseStyle']\n",
    "\n",
    "for matu in matulist:\n",
    "\n",
    "    df = pd.DataFrame(columns=['SegmentID'] + selected_fields + selected_fields_desc)\n",
    "    i = 0\n",
    "    \n",
    "    for x in res_i['Securities']:\n",
    "        if (str(x['MaturityDate']) == matu) and (x['SecurityType'] == 'OPT'):\n",
    "            df.loc[i] = [segmentIDopt] + [x[elt] for elt in selected_fields] + \\\n",
    "                        [x['DerivativesDescriptorGroup']['SimpleInstrumentDescriptorGroup'][elt] for elt in selected_fields_desc]\n",
    "            i += 1\n",
    "\n",
    "    for index, opt in df.iterrows():\n",
    "\n",
    "        url = 'https://a7.deutsche-boerse.com/api/v1/algo/{}/trades_PVA/'.format(owner)\n",
    "\n",
    "        market = 'XEUR'\n",
    "        url = url+\"run?marketId={}&date={}&marketSegmentId={}&securityId={}\".format(market, reference_date, opt['SegmentID'], opt['SecurityID'])\n",
    "        r = requests.get(url=url,  headers={'Authorization': API_TOKEN}, proxies = proxies)\n",
    "        res = r.json()\n",
    "\n",
    "        if (type(res) == list) and (len(res[0]['series'][0]['content']['time'])>0):\n",
    "            df_opt = pd.DataFrame.from_dict(res[0]['series'][0]['content'])\n",
    "            df_opt.index = df_opt.index.astype(np.int64)\n",
    "            df_opt.index = pd.to_datetime(df_opt.index)\n",
    "            for field in ['time', 'priots', 'bidentry', 'askentry']:\n",
    "                df_opt[field] = df_opt[field].astype(np.int64)\n",
    "                df_opt[field] = pd.to_datetime(df_opt[field])\n",
    "            df_opt.set_index('time', inplace=True)\n",
    "\n",
    "            df_opt[selected_fields_desc] = opt[selected_fields_desc]\n",
    "\n",
    "            df_opt['matu'] = matu\n",
    "            df_opt['SegmentID'] = opt['SegmentID']\n",
    "            df_opt['SecurityID'] = opt['SecurityID']\n",
    "            df_trades = df_trades.append(df_opt)\n",
    "\n",
    "df_trades.to_pickle(folder1 + '/Trades_' + udl + '.pkl')"
   ]
  },
  {
   "cell_type": "markdown",
   "metadata": {},
   "source": [
    "# Let's now fit volatility spline curves on the bid and ask quotes separately"
   ]
  },
  {
   "cell_type": "code",
   "execution_count": 11,
   "metadata": {},
   "outputs": [
    {
     "name": "stdout",
     "output_type": "stream",
     "text": [
      "20210105\n",
      "   20210115\n",
      "   20210219\n",
      "   20210319\n",
      "   20210416\n",
      "   20210514\n",
      "   20210618\n",
      "   20210917\n",
      "   20211217\n",
      "    leeway : 4\n",
      "    leeway : 4\n",
      "   20220617\n",
      "   20221216\n",
      "20210105\n",
      "   20210115\n",
      "   20210219\n",
      "   20210319\n",
      "   20210416\n",
      "   20210514\n",
      "   20210618\n",
      "   20210917\n",
      "   20211217\n",
      "   20220617\n",
      "   20221216\n",
      "                                                                     spline_bid                                         spline_ask\n",
      "ts                  matu                                                                                                          \n",
      "2021-01-05 08:05:00 20210115  <scipy.interpolate.fitpack2.LSQUnivariateSplin...  <scipy.interpolate.fitpack2.LSQUnivariateSplin...\n",
      "2021-01-05 08:10:00 20210115  <scipy.interpolate.fitpack2.LSQUnivariateSplin...  <scipy.interpolate.fitpack2.LSQUnivariateSplin...\n",
      "2021-01-05 08:15:00 20210115  <scipy.interpolate.fitpack2.LSQUnivariateSplin...  <scipy.interpolate.fitpack2.LSQUnivariateSplin...\n",
      "2021-01-05 08:20:00 20210115  <scipy.interpolate.fitpack2.LSQUnivariateSplin...  <scipy.interpolate.fitpack2.LSQUnivariateSplin...\n",
      "2021-01-05 08:25:00 20210115  <scipy.interpolate.fitpack2.LSQUnivariateSplin...  <scipy.interpolate.fitpack2.LSQUnivariateSplin...\n"
     ]
    }
   ],
   "source": [
    "warnings.filterwarnings('ignore')\n",
    "\n",
    "FS = FittingSpline(udl, DT, folder1, folder2)\n",
    "\n",
    "FS.fit_all()\n",
    "\n",
    "for reference_date in [elt for elt in DT.dates_list]:\n",
    "\n",
    "    print(reference_date)\n",
    "    matulist = [elt for elt in DT.get_matu_list(reference_date) if elt != reference_date]\n",
    "\n",
    "    for matu in matulist:\n",
    "        print('   ' + matu)\n",
    "\n",
    "        #ini_day intializies the dataframe and sets the starting implicit vol flat at 30%\n",
    "        FS.ini_day(reference_date, matu)\n",
    "\n",
    "        #fit_day starts a process of fitting the vol curve every 5 minutes allong with the forward ratio (dividend + repo yield)\n",
    "        FS.fit_day()\n",
    "\n",
    "    FS.df_params.to_pickle(folder2 + '/Params_' + udl + '.pkl')\n",
    "\n",
    "    \n",
    "print(FS.df_params[['spline_bid', 'spline_ask']].head(5))"
   ]
  },
  {
   "cell_type": "markdown",
   "metadata": {},
   "source": [
    "Congratulations, you have created a parameters dataframe with the fitted spline curve for the bid and ask implicit vol\n"
   ]
  },
  {
   "cell_type": "code",
   "execution_count": 12,
   "metadata": {
    "pycharm": {
     "name": "#%%\n"
    }
   },
   "outputs": [
    {
     "data": {
      "image/png": "[encoded data removed]",
      "text/plain": [
       "<Figure size 720x720 with 4 Axes>"
      ]
     },
     "metadata": {
      "needs_background": "light"
     },
     "output_type": "display_data"
    },
    {
     "name": "stdout",
     "output_type": "stream",
     "text": [
      "\n",
      "\n"
     ]
    },
    {
     "data": {
      "image/png": "[encoded data removed]",
      "text/plain": [
       "<Figure size 720x720 with 8 Axes>"
      ]
     },
     "metadata": {
      "needs_background": "light"
     },
     "output_type": "display_data"
    }
   ],
   "source": [
    "#Let's now graph what we have done :\n",
    "\n",
    "FS.graph(day=\"20210105\", matu=\"20210319\")\n",
    "\n",
    "# First graph : the spline curves themselves at different times of day\n",
    "\n",
    "# Second graphs : We use these volatilities to compute a fair bid and fair ask price for each strike \n",
    "# (Put on the left, Calls on the right).\n",
    "# Since we are representing on the same graph options with different strikes, the values are rebased \n",
    "# so that the model (or fair_value) bid is at 0, allowing for a more compact graph\n"
   ]
  }
 ],
 "metadata": {
  "celltoolbar": "Aucun(e)",
  "kernelspec": {
   "display_name": "PyCharm (Trades Dynamics)",
   "language": "python",
   "name": "pycharm-c2803846"
  },
  "language_info": {
   "codemirror_mode": {
    "name": "ipython",
    "version": 3
   },
   "file_extension": ".py",
   "mimetype": "text/x-python",
   "name": "python",
   "nbconvert_exporter": "python",
   "pygments_lexer": "ipython3",
   "version": "3.8.5"
  }
 },
 "nbformat": 4,
 "nbformat_minor": 1
}